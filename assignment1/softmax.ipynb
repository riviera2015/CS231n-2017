{
 "cells": [
  {
   "cell_type": "markdown",
   "metadata": {},
   "source": [
    "# Softmax exercise\n",
    "\n",
    "*Complete and hand in this completed worksheet (including its outputs and any supporting code outside of the worksheet) with your assignment submission. For more details see the [assignments page](http://vision.stanford.edu/teaching/cs231n/assignments.html) on the course website.*\n",
    "\n",
    "This exercise is analogous to the SVM exercise. You will:\n",
    "\n",
    "- implement a fully-vectorized **loss function** for the Softmax classifier\n",
    "- implement the fully-vectorized expression for its **analytic gradient**\n",
    "- **check your implementation** with numerical gradient\n",
    "- use a validation set to **tune the learning rate and regularization** strength\n",
    "- **optimize** the loss function with **SGD**\n",
    "- **visualize** the final learned weights\n"
   ]
  },
  {
   "cell_type": "code",
   "execution_count": 1,
   "metadata": {},
   "outputs": [],
   "source": [
    "import random\n",
    "import numpy as np\n",
    "from cs231n.data_utils import load_CIFAR10\n",
    "import matplotlib.pyplot as plt\n",
    "\n",
    "from __future__ import print_function\n",
    "\n",
    "%matplotlib inline\n",
    "plt.rcParams['figure.figsize'] = (10.0, 8.0) # set default size of plots\n",
    "plt.rcParams['image.interpolation'] = 'nearest'\n",
    "plt.rcParams['image.cmap'] = 'gray'\n",
    "\n",
    "# for auto-reloading extenrnal modules\n",
    "# see http://stackoverflow.com/questions/1907993/autoreload-of-modules-in-ipython\n",
    "%load_ext autoreload\n",
    "%autoreload 2"
   ]
  },
  {
   "cell_type": "code",
   "execution_count": 2,
   "metadata": {},
   "outputs": [
    {
     "name": "stdout",
     "output_type": "stream",
     "text": [
      "Train data shape:  (49000, 3073)\n",
      "Train labels shape:  (49000,)\n",
      "Validation data shape:  (1000, 3073)\n",
      "Validation labels shape:  (1000,)\n",
      "Test data shape:  (1000, 3073)\n",
      "Test labels shape:  (1000,)\n",
      "dev data shape:  (500, 3073)\n",
      "dev labels shape:  (500,)\n"
     ]
    }
   ],
   "source": [
    "def get_CIFAR10_data(num_training=49000, num_validation=1000, num_test=1000, num_dev=500):\n",
    "    \"\"\"\n",
    "    Load the CIFAR-10 dataset from disk and perform preprocessing to prepare\n",
    "    it for the linear classifier. These are the same steps as we used for the\n",
    "    SVM, but condensed to a single function.  \n",
    "    \"\"\"\n",
    "    # Load the raw CIFAR-10 data\n",
    "    cifar10_dir = 'cs231n/datasets/cifar-10-batches-py'\n",
    "    X_train, y_train, X_test, y_test = load_CIFAR10(cifar10_dir)\n",
    "    \n",
    "    # subsample the data\n",
    "    mask = list(range(num_training, num_training + num_validation))\n",
    "    X_val = X_train[mask]\n",
    "    y_val = y_train[mask]\n",
    "    mask = list(range(num_training))\n",
    "    X_train = X_train[mask]\n",
    "    y_train = y_train[mask]\n",
    "    mask = list(range(num_test))\n",
    "    X_test = X_test[mask]\n",
    "    y_test = y_test[mask]\n",
    "    mask = np.random.choice(num_training, num_dev, replace=False)\n",
    "    X_dev = X_train[mask]\n",
    "    y_dev = y_train[mask]\n",
    "    \n",
    "    # Preprocessing: reshape the image data into rows\n",
    "    X_train = np.reshape(X_train, (X_train.shape[0], -1))\n",
    "    X_val = np.reshape(X_val, (X_val.shape[0], -1))\n",
    "    X_test = np.reshape(X_test, (X_test.shape[0], -1))\n",
    "    X_dev = np.reshape(X_dev, (X_dev.shape[0], -1))\n",
    "    \n",
    "    # Normalize the data: subtract the mean image\n",
    "    mean_image = np.mean(X_train, axis = 0)\n",
    "    X_train -= mean_image\n",
    "    X_val -= mean_image\n",
    "    X_test -= mean_image\n",
    "    X_dev -= mean_image\n",
    "    \n",
    "    # add bias dimension and transform into columns\n",
    "    X_train = np.hstack([X_train, np.ones((X_train.shape[0], 1))])\n",
    "    X_val = np.hstack([X_val, np.ones((X_val.shape[0], 1))])\n",
    "    X_test = np.hstack([X_test, np.ones((X_test.shape[0], 1))])\n",
    "    X_dev = np.hstack([X_dev, np.ones((X_dev.shape[0], 1))])\n",
    "    \n",
    "    return X_train, y_train, X_val, y_val, X_test, y_test, X_dev, y_dev\n",
    "\n",
    "\n",
    "# Invoke the above function to get our data.\n",
    "X_train, y_train, X_val, y_val, X_test, y_test, X_dev, y_dev = get_CIFAR10_data()\n",
    "print('Train data shape: ', X_train.shape)\n",
    "print('Train labels shape: ', y_train.shape)\n",
    "print('Validation data shape: ', X_val.shape)\n",
    "print('Validation labels shape: ', y_val.shape)\n",
    "print('Test data shape: ', X_test.shape)\n",
    "print('Test labels shape: ', y_test.shape)\n",
    "print('dev data shape: ', X_dev.shape)\n",
    "print('dev labels shape: ', y_dev.shape)"
   ]
  },
  {
   "cell_type": "markdown",
   "metadata": {},
   "source": [
    "## Softmax Classifier\n",
    "\n",
    "Your code for this section will all be written inside **cs231n/classifiers/softmax.py**. \n"
   ]
  },
  {
   "cell_type": "code",
   "execution_count": 3,
   "metadata": {},
   "outputs": [],
   "source": [
    "# num_classes = 3\n",
    "# num_train = 4\n",
    "# num_features = 5\n",
    "\n",
    "# seed = np.random.RandomState(0)\n",
    "# W = seed.choice(np.arange(-1, 1, 0.1), num_features * num_classes).reshape(num_features, num_classes)\n",
    "# X = np.column_stack([\n",
    "#     seed.choice(np.arange(-10, 10, 1), num_train * (num_features-1)).reshape(num_train, num_features-1).T,\n",
    "#     np.array([1] * num_train)\n",
    "# ])\n",
    "# y = seed.choice(np.arange(num_classes), num_train)\n",
    "\n",
    "# print(W)\n",
    "# print(X)\n",
    "# print(y)\n",
    "\n",
    "# scores = X.dot(W)\n",
    "# scores -= np.max(scores, axis=1).reshape(-1, 1)\n",
    "# print(scores)\n",
    "\n",
    "# true_class_scores = np.choose(y, scores.T)\n",
    "# true_class_idx = np.vstack([np.arange(y.shape[0]), y]).T\n",
    "# print(true_class_scores)\n",
    "# print(true_class_idx)\n",
    "# dW_base = np.exp(scores) / np.sum(np.exp(scores), axis=1).reshape(-1, 1)\n",
    "# print(np.round(dW_base, 3))\n",
    "# print(dW_base)\n",
    "# dW_base[true_class_idx[:, 0], true_class_idx[:, 1]] -= 1\n",
    "# print(dW_base)"
   ]
  },
  {
   "cell_type": "code",
   "execution_count": 4,
   "metadata": {},
   "outputs": [],
   "source": [
    "# print(X)\n",
    "# print(np.sum(X, axis=0))"
   ]
  },
  {
   "cell_type": "code",
   "execution_count": 5,
   "metadata": {},
   "outputs": [
    {
     "name": "stdout",
     "output_type": "stream",
     "text": [
      "loss: 2.413159\n",
      "sanity check: 2.302585\n"
     ]
    }
   ],
   "source": [
    "# First implement the naive softmax loss function with nested loops.\n",
    "# Open the file cs231n/classifiers/softmax.py and implement the\n",
    "# softmax_loss_naive function.\n",
    "\n",
    "from cs231n.classifiers.softmax import softmax_loss_naive\n",
    "import time\n",
    "\n",
    "# Generate a random softmax weight matrix and use it to compute the loss.\n",
    "W = np.random.randn(3073, 10) * 0.0001\n",
    "loss, grad = softmax_loss_naive(W, X_dev, y_dev, 0.0)\n",
    "\n",
    "# As a rough sanity check, our loss should be something close to -log(0.1).\n",
    "print('loss: %f' % loss)\n",
    "print('sanity check: %f' % (-np.log(0.1)))"
   ]
  },
  {
   "cell_type": "markdown",
   "metadata": {},
   "source": [
    "## Inline Question 1:\n",
    "Why do we expect our loss to be close to -log(0.1)? Explain briefly.**\n",
    "\n",
    "**Your answer:** So, we have 10 classes that means that a (weighted to class sizes) random guess returns the true class with 0.1 probability on i-th iteration. \n"
   ]
  },
  {
   "cell_type": "code",
   "execution_count": 6,
   "metadata": {},
   "outputs": [
    {
     "name": "stdout",
     "output_type": "stream",
     "text": [
      "numerical: 3.005958 analytic: 3.005958, relative error: 1.671430e-08\n",
      "numerical: 1.576544 analytic: 1.576544, relative error: 2.533227e-08\n",
      "numerical: 1.334858 analytic: 1.334858, relative error: 7.499904e-09\n",
      "numerical: -1.974628 analytic: -1.974627, relative error: 1.073943e-08\n",
      "numerical: -1.006655 analytic: -1.006655, relative error: 6.646002e-09\n",
      "numerical: 3.032859 analytic: 3.032859, relative error: 5.730056e-09\n",
      "numerical: 0.113889 analytic: 0.113889, relative error: 5.080727e-08\n",
      "numerical: -0.748669 analytic: -0.748669, relative error: 6.417770e-08\n",
      "numerical: 3.838996 analytic: 3.838996, relative error: 1.045930e-08\n",
      "numerical: -1.811041 analytic: -1.811041, relative error: 8.513811e-09\n",
      "numerical: -2.150687 analytic: -2.150687, relative error: 1.094808e-08\n",
      "numerical: 0.091318 analytic: 0.091318, relative error: 8.107735e-07\n",
      "numerical: -0.054024 analytic: -0.054024, relative error: 1.097491e-06\n",
      "numerical: -0.451107 analytic: -0.451107, relative error: 4.056654e-08\n",
      "numerical: 3.102516 analytic: 3.102516, relative error: 1.556734e-08\n",
      "numerical: 0.366937 analytic: 0.366937, relative error: 8.644314e-08\n",
      "numerical: -4.416694 analytic: -4.416694, relative error: 2.823944e-09\n",
      "numerical: 0.974593 analytic: 0.974593, relative error: 5.814237e-08\n",
      "numerical: -3.166758 analytic: -3.166758, relative error: 1.981451e-08\n",
      "numerical: -1.826974 analytic: -1.826974, relative error: 8.051498e-09\n"
     ]
    }
   ],
   "source": [
    "# Complete the implementation of softmax_loss_naive and implement a (naive)\n",
    "# version of the gradient that uses nested loops.\n",
    "loss, grad = softmax_loss_naive(W, X_dev, y_dev, 0.0)\n",
    "\n",
    "# As we did for the SVM, use numeric gradient checking as a debugging tool.\n",
    "# The numeric gradient should be close to the analytic gradient.\n",
    "from cs231n.gradient_check import grad_check_sparse\n",
    "f = lambda w: softmax_loss_naive(w, X_dev, y_dev, 0.0)[0]\n",
    "grad_numerical = grad_check_sparse(f, W, grad, 10)\n",
    "\n",
    "# similar to SVM case, do another gradient check with regularization\n",
    "loss, grad = softmax_loss_naive(W, X_dev, y_dev, 5e1)\n",
    "f = lambda w: softmax_loss_naive(w, X_dev, y_dev, 5e1)[0]\n",
    "grad_numerical = grad_check_sparse(f, W, grad, 10)"
   ]
  },
  {
   "cell_type": "code",
   "execution_count": 7,
   "metadata": {},
   "outputs": [
    {
     "name": "stdout",
     "output_type": "stream",
     "text": [
      "naive loss: 2.413159e+00 computed in 0.842749s\n",
      "vectorized loss: 2.413159e+00 computed in 0.023396s\n",
      "Loss difference: 0.000000\n",
      "Gradient difference: 0.000000\n"
     ]
    }
   ],
   "source": [
    "# Now that we have a naive implementation of the softmax loss function and its gradient,\n",
    "# implement a vectorized version in softmax_loss_vectorized.\n",
    "# The two versions should compute the same results, but the vectorized version should be\n",
    "# much faster.\n",
    "tic = time.time()\n",
    "loss_naive, grad_naive = softmax_loss_naive(W, X_dev, y_dev, 0.000005)\n",
    "toc = time.time()\n",
    "print('naive loss: %e computed in %fs' % (loss_naive, toc - tic))\n",
    "\n",
    "from cs231n.classifiers.softmax import softmax_loss_vectorized\n",
    "tic = time.time()\n",
    "loss_vectorized, grad_vectorized = softmax_loss_vectorized(W, X_dev, y_dev, 0.000005)\n",
    "toc = time.time()\n",
    "print('vectorized loss: %e computed in %fs' % (loss_vectorized, toc - tic))\n",
    "\n",
    "# As we did for the SVM, we use the Frobenius norm to compare the two versions\n",
    "# of the gradient.\n",
    "grad_difference = np.linalg.norm(grad_naive - grad_vectorized, ord='fro')\n",
    "print('Loss difference: %f' % np.abs(loss_naive - loss_vectorized))\n",
    "print('Gradient difference: %f' % grad_difference)"
   ]
  },
  {
   "cell_type": "code",
   "execution_count": 8,
   "metadata": {},
   "outputs": [
    {
     "name": "stdout",
     "output_type": "stream",
     "text": [
      "1e-08 100000.0\n",
      "lr 1.000000e-08 reg 1.000000e+04 train accuracy: 0.418204 val accuracy: 0.403000\n",
      "lr 1.000000e-08 reg 2.500000e+04 train accuracy: 0.418327 val accuracy: 0.405000\n",
      "lr 1.000000e-08 reg 5.000000e+04 train accuracy: 0.418122 val accuracy: 0.407000\n",
      "lr 1.000000e-08 reg 7.500000e+04 train accuracy: 0.418510 val accuracy: 0.406000\n",
      "lr 1.000000e-08 reg 1.000000e+05 train accuracy: 0.418857 val accuracy: 0.406000\n",
      "lr 1.000000e-07 reg 1.000000e+04 train accuracy: 0.400551 val accuracy: 0.391000\n",
      "lr 1.000000e-07 reg 2.500000e+04 train accuracy: 0.403735 val accuracy: 0.396000\n",
      "lr 1.000000e-07 reg 5.000000e+04 train accuracy: 0.407245 val accuracy: 0.393000\n",
      "lr 1.000000e-07 reg 7.500000e+04 train accuracy: 0.408633 val accuracy: 0.397000\n",
      "lr 1.000000e-07 reg 1.000000e+05 train accuracy: 0.409735 val accuracy: 0.397000\n",
      "lr 5.000000e-07 reg 1.000000e+04 train accuracy: 0.411367 val accuracy: 0.404000\n",
      "lr 5.000000e-07 reg 2.500000e+04 train accuracy: 0.415245 val accuracy: 0.400000\n",
      "lr 5.000000e-07 reg 5.000000e+04 train accuracy: 0.415082 val accuracy: 0.397000\n",
      "lr 5.000000e-07 reg 7.500000e+04 train accuracy: 0.416224 val accuracy: 0.394000\n",
      "lr 5.000000e-07 reg 1.000000e+05 train accuracy: 0.418143 val accuracy: 0.404000\n",
      "lr 1.000000e-06 reg 1.000000e+04 train accuracy: 0.231980 val accuracy: 0.229000\n",
      "lr 1.000000e-06 reg 2.500000e+04 train accuracy: 0.263694 val accuracy: 0.264000\n",
      "lr 1.000000e-06 reg 5.000000e+04 train accuracy: 0.281224 val accuracy: 0.282000\n",
      "lr 1.000000e-06 reg 7.500000e+04 train accuracy: 0.301592 val accuracy: 0.297000\n",
      "lr 1.000000e-06 reg 1.000000e+05 train accuracy: 0.317939 val accuracy: 0.319000\n",
      "lr 5.000000e-06 reg 1.000000e+04 train accuracy: 0.324286 val accuracy: 0.308000\n",
      "lr 5.000000e-06 reg 2.500000e+04 train accuracy: 0.353510 val accuracy: 0.346000\n",
      "lr 5.000000e-06 reg 5.000000e+04 train accuracy: 0.364429 val accuracy: 0.373000\n",
      "lr 5.000000e-06 reg 7.500000e+04 train accuracy: 0.372184 val accuracy: 0.365000\n",
      "lr 5.000000e-06 reg 1.000000e+05 train accuracy: 0.373735 val accuracy: 0.369000\n",
      "best validation accuracy achieved during cross-validation: 0.406000\n"
     ]
    }
   ],
   "source": [
    "# Use the validation set to tune hyperparameters (regularization strength and\n",
    "# learning rate). You should experiment with different ranges for the learning\n",
    "# rates and regularization strengths; if you are careful you should be able to\n",
    "# get a classification accuracy of over 0.35 on the validation set.\n",
    "from cs231n.classifiers import Softmax\n",
    "results = {}\n",
    "best_val = -1\n",
    "best_softmax = None\n",
    "learning_rates = [1e-6, 5e-6, 1e-7, 5e-7, 1e-8]\n",
    "regularization_strengths = [1e4, 2.5e4, 5e4, 7.5e4, 1e5]\n",
    "\n",
    "################################################################################\n",
    "# TODO:                                                                        #\n",
    "# Use the validation set to set the learning rate and regularization strength. #\n",
    "# This should be identical to the validation that you did for the SVM; save    #\n",
    "# the best trained softmax classifer in best_softmax.                          #\n",
    "################################################################################\n",
    "\n",
    "sm = Softmax()\n",
    "sms = {}\n",
    "\n",
    "for lr in learning_rates:\n",
    "    for C in regularization_strengths:\n",
    "        # train\n",
    "        sm.train(X_train, y_train, learning_rate=lr, reg=C)\n",
    "        # predict\n",
    "        y_train_pred = sm.predict(X_train)\n",
    "        y_val_pred = sm.predict(X_val)\n",
    "        # scoring\n",
    "        train_score = np.mean(y_train == y_train_pred)\n",
    "        val_score = np.mean(y_val == y_val_pred)\n",
    "        # store results\n",
    "        results[(lr, C)] = (train_score, val_score)\n",
    "        sms[(lr, C)] = sm\n",
    "\n",
    "sorted_results = sorted(results.items(), key=lambda x: (x[1], x[1])) # by val score\n",
    "best_params = sorted_results[-1][0]\n",
    "best_val = sorted_results[-1][1][1]\n",
    "best_softmax = sms[best_params]\n",
    "print(best_softmax.lr, best_softmax.C)\n",
    "################################################################################\n",
    "#                              END OF YOUR CODE                                #\n",
    "################################################################################\n",
    "    \n",
    "# Print out results.\n",
    "for lr, reg in sorted(results):\n",
    "    train_accuracy, val_accuracy = results[(lr, reg)]\n",
    "    print('lr %e reg %e train accuracy: %f val accuracy: %f' % (\n",
    "                lr, reg, train_accuracy, val_accuracy))\n",
    "    \n",
    "print('best validation accuracy achieved during cross-validation: %f' % best_val)"
   ]
  },
  {
   "cell_type": "code",
   "execution_count": 9,
   "metadata": {},
   "outputs": [
    {
     "name": "stdout",
     "output_type": "stream",
     "text": [
      "softmax on raw pixels final test set accuracy: 0.387000\n"
     ]
    }
   ],
   "source": [
    "# evaluate on test set\n",
    "# Evaluate the best softmax on test set\n",
    "y_test_pred = best_softmax.predict(X_test)\n",
    "test_accuracy = np.mean(y_test == y_test_pred)\n",
    "print('softmax on raw pixels final test set accuracy: %f' % (test_accuracy, ))"
   ]
  },
  {
   "cell_type": "code",
   "execution_count": 10,
   "metadata": {},
   "outputs": [
    {
     "data": {
      "image/png": "[encoded data removed]",
      "text/plain": [
       "<matplotlib.figure.Figure at 0x7efe9c3059e8>"
      ]
     },
     "metadata": {},
     "output_type": "display_data"
    }
   ],
   "source": [
    "# Visualize the learned weights for each class\n",
    "w = best_softmax.W[:-1,:] # strip out the bias\n",
    "w = w.reshape(32, 32, 3, 10)\n",
    "\n",
    "w_min, w_max = np.min(w), np.max(w)\n",
    "\n",
    "classes = ['plane', 'car', 'bird', 'cat', 'deer', 'dog', 'frog', 'horse', 'ship', 'truck']\n",
    "for i in range(10):\n",
    "    plt.subplot(2, 5, i + 1)\n",
    "    \n",
    "    # Rescale the weights to be between 0 and 255\n",
    "    wimg = 255.0 * (w[:, :, :, i].squeeze() - w_min) / (w_max - w_min)\n",
    "    plt.imshow(wimg.astype('uint8'))\n",
    "    plt.axis('off')\n",
    "    plt.title(classes[i])"
   ]
  }
 ],
 "metadata": {
  "kernelspec": {
   "display_name": "Python 3",
   "language": "python",
   "name": "python3"
  },
  "language_info": {
   "codemirror_mode": {
    "name": "ipython",
    "version": 3
   },
   "file_extension": ".py",
   "mimetype": "text/x-python",
   "name": "python",
   "nbconvert_exporter": "python",
   "pygments_lexer": "ipython3",
   "version": "3.5.2"
  }
 },
 "nbformat": 4,
 "nbformat_minor": 1
}
